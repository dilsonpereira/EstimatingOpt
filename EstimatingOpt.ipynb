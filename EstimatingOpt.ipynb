{
 "cells": [
  {
   "cell_type": "markdown",
   "metadata": {},
   "source": [
    "# Estimating Optimal Solutions for Combinatorial Optimization Problems"
   ]
  },
  {
   "cell_type": "markdown",
   "metadata": {},
   "source": [
    "Let $S$ be a sample of size $m$ from a probability distribution bounded below by $a$, let $z$ be the minimum value in the sample. As $m$ increases, the distribution of $z$ approaches a *Weibull distribution* having $a$ as its location parameter (displacement) (Goden and Alt, 1979; Rardin and Uzsoy, 2001).\n",
    "\n",
    "The CDF of the Weibull distribution is $F_x(x_0) = prob\\{x \\leq x_0\\} = 1 - e^{-(\\frac{x_0-a}{b})^c}$, where $a$ is the location parameter, $b$ is the scale parameter, and $c$ the shape parameter.\n",
    "\n",
    "By considering $k$ samples and their corresponding minimum values $z_1, \\ldots, z_k$, we can try to estimate the parameters of the Weibull distribution. We will assume $z_1, \\ldots, z_k$ are in non-decreasing order.\n",
    "\n",
    "We can use this result to estimate the value of the optimal solution of a combinatorial optimization problem.\n",
    "\n",
    "By taking a problem instance as a probability distribution, the best solution in a sample $m$ random solutions for the instance should approach a Weibull distribution. By considering $k$ samples, we can estimate the distribution parameters, in particular, $a$ is an estimate of the optimal solution value."
   ]
  },
  {
   "cell_type": "markdown",
   "metadata": {},
   "source": [
    "## An example - The Traveling Salesman Problem\n",
    "Sample $n$ points on a 2D plane:"
   ]
  },
  {
   "cell_type": "code",
   "execution_count": 82,
   "metadata": {},
   "outputs": [],
   "source": [
    "import random\n",
    "\n",
    "n = 10\n",
    "side = 100\n",
    "x = [random.random()*side for i in range(n)]\n",
    "y = [random.random()*side for i in range(n)]"
   ]
  },
  {
   "cell_type": "markdown",
   "metadata": {},
   "source": [
    "Plot the points:"
   ]
  },
  {
   "cell_type": "code",
   "execution_count": 83,
   "metadata": {},
   "outputs": [
    {
     "data": {
      "image/png": "[encoded data removed]",
      "text/plain": [
       "<Figure size 432x288 with 1 Axes>"
      ]
     },
     "metadata": {
      "needs_background": "light"
     },
     "output_type": "display_data"
    }
   ],
   "source": [
    "import matplotlib.pyplot as plt\n",
    "\n",
    "plt.scatter(x, y)\n",
    "plt.show()"
   ]
  },
  {
   "cell_type": "markdown",
   "metadata": {},
   "source": [
    "Functions for the distance between two vertices and cost of a solution:"
   ]
  },
  {
   "cell_type": "code",
   "execution_count": 84,
   "metadata": {},
   "outputs": [],
   "source": [
    "import math\n",
    "\n",
    "def distance(u, v):\n",
    "    return ((x[u]-x[v])**2+(y[u]-y[v])**2)**(1/2)\n",
    "\n",
    "def cost(s):\n",
    "    return sum(distance(s[u], s[(u+1)%n]) for u in range(n))"
   ]
  },
  {
   "cell_type": "markdown",
   "metadata": {},
   "source": [
    "Function for generating a random solution:"
   ]
  },
  {
   "cell_type": "code",
   "execution_count": 85,
   "metadata": {},
   "outputs": [],
   "source": [
    "def randSol():\n",
    "    s = list(range(n))\n",
    "    random.shuffle(s)\n",
    "    \n",
    "    return s"
   ]
  },
  {
   "cell_type": "markdown",
   "metadata": {},
   "source": [
    "Function for obtaining the best solution from a sample of $m$ random solutions:"
   ]
  },
  {
   "cell_type": "code",
   "execution_count": 86,
   "metadata": {},
   "outputs": [],
   "source": [
    "def minimum(m):\n",
    "    return min(cost(randSol()) for i in range(m))"
   ]
  },
  {
   "cell_type": "markdown",
   "metadata": {},
   "source": [
    "Function for obtaining the best solutions of $k$ samples of $m$ solutions each:"
   ]
  },
  {
   "cell_type": "code",
   "execution_count": 87,
   "metadata": {},
   "outputs": [],
   "source": [
    "def minima(k, m):\n",
    "    return sorted([minimum(m) for i in range(k)])"
   ]
  },
  {
   "cell_type": "markdown",
   "metadata": {},
   "source": [
    "Lets plot a histogram of $z_1, \\ldots, z_k$"
   ]
  },
  {
   "cell_type": "code",
   "execution_count": 88,
   "metadata": {},
   "outputs": [
    {
     "data": {
      "image/png": "[encoded data removed]",
      "text/plain": [
       "<Figure size 432x288 with 1 Axes>"
      ]
     },
     "metadata": {
      "needs_background": "light"
     },
     "output_type": "display_data"
    },
    {
     "data": {
      "text/plain": [
       "300.1400186307031"
      ]
     },
     "execution_count": 88,
     "metadata": {},
     "output_type": "execute_result"
    }
   ],
   "source": [
    "k = 1000\n",
    "m = 100\n",
    "z = minima(k, m)\n",
    "plt.hist(z)\n",
    "plt.show()\n",
    "z[0]"
   ]
  },
  {
   "cell_type": "markdown",
   "metadata": {},
   "source": [
    "## Estimating the Weibull Distribution Parameters\n",
    "\n",
    "A point estimate for the optimal value $a$ given by Golden and Alt (1979) is $\\tilde{a} = 2z_1 - z_2$. An estimate given by Zanakis (1979) is $\\hat{a} = \\frac{z_1z_n-z_2^2}{z_1+z_n-2z_2}$. Cooke (1979) proposes $a^* = 2z_1-(e-1)\\sum_{i=1}^{k}\\frac{z_i}{e^i}$.\n",
    "\n",
    "Acording to Zanakis and Evans (1981) the order of accuracy is $a^*$, $\\hat{a}$, $\\tilde{a}$.\n",
    "\n",
    "A $1-e^{-k}$% confidence interval for $a$ was proposed by Golden and Alt (1979): $[z_1-\\tilde{b}, z_1]$, where $\\tilde{b} = z_{\\lfloor 0.63k \\rfloor+1} - \\overline{a}$; $\\overline{a}$ can be $\\tilde{a}, \\hat{a}, a^*$.\n",
    "\n",
    "Golden and Alt (1979) also give an estimate for $c$, $\\tilde{c} = \\frac{\\ln(-\\ln(0.5))}{\\ln(z_M-\\overline{a})-\\ln{\\overline{b}}}$, where $z_M$ is the median of $z_1, \\ldots, z_k$.\n",
    "\n",
    "In fact, Golden and Alt (1979) recommend using Maximum Likelihood Estimation (MLE) to refine $\\overline{a}$, $\\tilde{b}$, $\\tilde{c}$. According to Zanakis and Evans (1981), this is not justifiable."
   ]
  },
  {
   "cell_type": "code",
   "execution_count": 89,
   "metadata": {},
   "outputs": [
    {
     "data": {
      "text/html": [
       "<div>\n",
       "<style scoped>\n",
       "    .dataframe tbody tr th:only-of-type {\n",
       "        vertical-align: middle;\n",
       "    }\n",
       "\n",
       "    .dataframe tbody tr th {\n",
       "        vertical-align: top;\n",
       "    }\n",
       "\n",
       "    .dataframe thead th {\n",
       "        text-align: right;\n",
       "    }\n",
       "</style>\n",
       "<table border=\"1\" class=\"dataframe\">\n",
       "  <thead>\n",
       "    <tr style=\"text-align: right;\">\n",
       "      <th></th>\n",
       "      <th>a</th>\n",
       "      <th>b</th>\n",
       "      <th>c</th>\n",
       "      <th>linf</th>\n",
       "      <th>lsup</th>\n",
       "    </tr>\n",
       "  </thead>\n",
       "  <tbody>\n",
       "    <tr>\n",
       "      <td>Goden and Alt (1979)</td>\n",
       "      <td>300.140019</td>\n",
       "      <td>69.693116</td>\n",
       "      <td>3.661568</td>\n",
       "      <td>230.446902</td>\n",
       "      <td>300.140019</td>\n",
       "    </tr>\n",
       "    <tr>\n",
       "      <td>Zanakis (1979)</td>\n",
       "      <td>300.140019</td>\n",
       "      <td>69.693116</td>\n",
       "      <td>3.661568</td>\n",
       "      <td>230.446902</td>\n",
       "      <td>300.140019</td>\n",
       "    </tr>\n",
       "    <tr>\n",
       "      <td>Cooke (1979)</td>\n",
       "      <td>299.451226</td>\n",
       "      <td>70.381910</td>\n",
       "      <td>3.699629</td>\n",
       "      <td>229.758109</td>\n",
       "      <td>300.140019</td>\n",
       "    </tr>\n",
       "    <tr>\n",
       "      <td>MLE</td>\n",
       "      <td>283.868926</td>\n",
       "      <td>86.388406</td>\n",
       "      <td>4.898570</td>\n",
       "      <td>213.751613</td>\n",
       "      <td>300.140019</td>\n",
       "    </tr>\n",
       "  </tbody>\n",
       "</table>\n",
       "</div>"
      ],
      "text/plain": [
       "                               a          b         c        linf        lsup\n",
       "Goden and Alt (1979)  300.140019  69.693116  3.661568  230.446902  300.140019\n",
       "Zanakis (1979)        300.140019  69.693116  3.661568  230.446902  300.140019\n",
       "Cooke (1979)          299.451226  70.381910  3.699629  229.758109  300.140019\n",
       "MLE                   283.868926  86.388406  4.898570  213.751613  300.140019"
      ]
     },
     "execution_count": 89,
     "metadata": {},
     "output_type": "execute_result"
    }
   ],
   "source": [
    "from scipy.stats import weibull_min\n",
    "from math import log as ln\n",
    "from statistics import median\n",
    "import pandas as pd\n",
    "\n",
    "def estimates(a):\n",
    "    b = z[math.floor(0.63*k)+1]-a\n",
    "    c = ln(-ln(0.5))/(ln(median(z)-a)-ln(b))\n",
    "    linf = z[0]-b\n",
    "    lsup = z[0]\n",
    "    return {'a':a, 'b':b, 'c':c, 'linf':linf, 'lsup':lsup}\n",
    "\n",
    "# Golden and Alt, 1979\n",
    "golden = estimates(2*z[0]-z[1])\n",
    "\n",
    "# Zanakis (1979)\n",
    "zanakis = estimates((z[0]*z[-1]-z[1]**2)/(z[0]+z[-1]-2*z[1]))\n",
    "\n",
    "# Cooke 1979.\n",
    "cooke = estimates(2*z[0]-(math.e-1)*(sum(math.exp(-(i+1))*z[i] for i in range(k))))\n",
    "\n",
    "# Scipy Maximum Likelihood Estimate (MLE)\n",
    "cMLE, aMLE, bMLE = weibull_min.fit(z, cooke['c'], loc = cooke['a'], scale = cooke['b']) # shape, location, scale\n",
    "MLE = {'a':aMLE, 'b':bMLE, 'c':cMLE, 'linf':z[0]-bMLE, 'lsup':z[0]}\n",
    "\n",
    "df = pd.DataFrame([golden, zanakis, cooke, MLE], \n",
    "                  index = ['Goden and Alt (1979)', 'Zanakis (1979)', 'Cooke (1979)', 'MLE'])\n",
    "df"
   ]
  },
  {
   "cell_type": "code",
   "execution_count": 90,
   "metadata": {},
   "outputs": [
    {
     "data": {
      "image/png": "[encoded data removed]",
      "text/plain": [
       "<Figure size 432x288 with 1 Axes>"
      ]
     },
     "metadata": {
      "needs_background": "light"
     },
     "output_type": "display_data"
    }
   ],
   "source": [
    "import numpy as np\n",
    "\n",
    "ls = np.linspace(0.9*z[0], 1.1*z[-1], 100)\n",
    "\n",
    "plt.plot(ls, weibull_min(c = cooke['c'], loc = cooke['a'], scale = cooke['b']).pdf(ls), '-b', label = 'Cooke (1979)')\n",
    "plt.plot(ls, weibull_min(c = MLE['c'], loc = MLE['a'], scale = MLE['b']).pdf(ls), '-r', label = 'MLE')\n",
    "plt.hist(z, density=True, alpha=0.2)\n",
    "plt.legend(loc=\"upper left\")\n",
    "plt.show()"
   ]
  },
  {
   "cell_type": "markdown",
   "metadata": {},
   "source": [
    "Lets obtain the optimal solution by enumeration (only for very small $n$):"
   ]
  },
  {
   "cell_type": "code",
   "execution_count": 91,
   "metadata": {},
   "outputs": [
    {
     "data": {
      "text/plain": [
       "300.1400186307031"
      ]
     },
     "execution_count": 91,
     "metadata": {},
     "output_type": "execute_result"
    }
   ],
   "source": [
    "def enumeration(n):\n",
    "    i = 0\n",
    "    s = [-1]*n\n",
    "    visited = [False]*n\n",
    "    \n",
    "    while i >= 0:\n",
    "        if not s[i] == -1:\n",
    "            visited[s[i]] = False\n",
    "        s[i] += 1\n",
    "        while s[i] < n and visited[s[i]]:\n",
    "            s[i] += 1\n",
    "        \n",
    "        if s[i] == n:\n",
    "            s[i] = -1\n",
    "            i -= 1\n",
    "        else:\n",
    "            visited[s[i]] = True\n",
    "            \n",
    "            if i < n-1:\n",
    "                i += 1\n",
    "            else:\n",
    "                yield cost(s)\n",
    "                \n",
    "opt = min(enumeration(n))\n",
    "opt"
   ]
  },
  {
   "cell_type": "markdown",
   "metadata": {},
   "source": [
    "## References\n",
    "\n",
    "P. Cooke. Statistical Inference for Bounds of Random Variables. Biometrika. 1979.\n",
    "\n",
    "B. L. Golden and F. B. Alt. Interval Estimation of a Global Optimum for Large Combinatorial Problems. Naval Research Logistics Quarterly. 1979.\n",
    "\n",
    "R. L. Rardin and R. Uzsoy. Experimental Evaluation of Heuristic Optimization Algorithms: A Tutorial. Journal of Heuristics. 2001.\n",
    "\n",
    "S. H. Zanakis. A Simulation Study of Some Simple Estimators for the Three-parameter Weibull Distribution. Journal of Statistical Computation and Simulation. 1979.\n",
    "\n",
    "S. H. Zanakis and J. R. Evans. Heuristic \"Optimization\": Why, When, and How to Use It. Interfaces. 1981."
   ]
  }
 ],
 "metadata": {
  "kernelspec": {
   "display_name": "Python 3",
   "language": "python",
   "name": "python3"
  },
  "language_info": {
   "codemirror_mode": {
    "name": "ipython",
    "version": 3
   },
   "file_extension": ".py",
   "mimetype": "text/x-python",
   "name": "python",
   "nbconvert_exporter": "python",
   "pygments_lexer": "ipython3",
   "version": "3.5.7"
  }
 },
 "nbformat": 4,
 "nbformat_minor": 2
}
